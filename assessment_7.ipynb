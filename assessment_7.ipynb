{
  "nbformat": 4,
  "nbformat_minor": 0,
  "metadata": {
    "anaconda-cloud": {},
    "kernelspec": {
      "display_name": "Python 3",
      "language": "python",
      "name": "python3"
    },
    "language_info": {
      "codemirror_mode": {
        "name": "ipython",
        "version": 3
      },
      "file_extension": ".py",
      "mimetype": "text/x-python",
      "name": "python",
      "nbconvert_exporter": "python",
      "pygments_lexer": "ipython3",
      "version": "3.6.6"
    },
    "colab": {
      "provenance": [],
      "include_colab_link": true
    },
    "accelerator": "GPU"
  },
  "cells": [
    {
      "cell_type": "markdown",
      "metadata": {
        "id": "view-in-github",
        "colab_type": "text"
      },
      "source": [
        "<a href=\"https://colab.research.google.com/github/phoebejeske/deep-learning/blob/main/assessment_7.ipynb\" target=\"_parent\"><img src=\"https://colab.research.google.com/assets/colab-badge.svg\" alt=\"Open In Colab\"/></a>"
      ]
    },
    {
      "cell_type": "markdown",
      "metadata": {
        "id": "cW-EyI5Lxpqi"
      },
      "source": [
        "# Copyright\n",
        "\n",
        "<PRE>\n",
        "Copyright (c) 2024 Bálint Gyires-Tóth - All Rights Reserved\n",
        "You may use and modify this code for research and development purpuses.\n",
        "Using this code for educational purposes (self-paced or instructor led) without the permission of the author is prohibited.\n",
        "</PRE>"
      ]
    },
    {
      "cell_type": "markdown",
      "source": [
        "# Convolutional Neural Network exercise\n",
        "\n",
        "In this notebook, you will build a convolutional neural network, which offers superior results over the previous MLP solution. Additionally, you will perform a more detailed evaluation."
      ],
      "metadata": {
        "id": "3EX4cCa4WKJu"
      }
    },
    {
      "cell_type": "code",
      "source": [
        "# imports\n",
        "from tensorflow.keras.datasets import cifar10\n",
        "from tensorflow.keras.utils import to_categorical\n",
        "import numpy as np\n",
        "import matplotlib.pyplot as plt\n",
        "from tensorflow.keras.models import Sequential\n",
        "from tensorflow.keras.layers import Dense, Conv2D, MaxPool2D, Flatten, Dropout, BatchNormalization\n",
        "from tensorflow.keras.initializers import HeNormal\n",
        "from tensorflow.keras.callbacks import EarlyStopping"
      ],
      "metadata": {
        "id": "GdCMhy4HA2qd"
      },
      "execution_count": null,
      "outputs": []
    },
    {
      "cell_type": "markdown",
      "source": [
        "# 1. Data\n",
        "The dataset we will use is the well-known CIFAR10 (Canadian Institute For Advanced Research). Explore the details on the Keras website first: https://keras.io/api/datasets/cifar10/\n",
        "\n",
        "There isn't much difference between the data preprocessing part and the one we did before. The only difference is that we don't have to reshape images into vectors, but we are working with a 4 dimensional data structure, where the dimensions are: batch, X, Y, and color channels.\n",
        "\n",
        "In the event that anything is not clear regarding the data preparation part, please check the previous CIFAR10 notebook."
      ],
      "metadata": {
        "id": "yY9fztIeWIKt"
      }
    },
    {
      "cell_type": "code",
      "source": [
        "(X_train, Y_train), (X_test, Y_test) = cifar10.load_data()"
      ],
      "metadata": {
        "id": "bez7q0eiWQCK"
      },
      "execution_count": null,
      "outputs": []
    },
    {
      "cell_type": "code",
      "source": [
        "# it is in int8 format, the neural network requires float32\n",
        "X_train = X_train.astype(\"float32\")\n",
        "X_test = X_test.astype(\"float32\")"
      ],
      "metadata": {
        "id": "vukOcBM0XzSj"
      },
      "execution_count": null,
      "outputs": []
    },
    {
      "cell_type": "code",
      "source": [
        "train_ratio  = 0.8\n",
        "train_length = X_train.shape[0]\n",
        "train_split  = int(train_ratio*train_length)\n",
        "X_valid, Y_valid = X_train[train_split:], Y_train[train_split:]\n",
        "X_train, Y_train = X_train[:train_split], Y_train[:train_split]"
      ],
      "metadata": {
        "id": "mRwuWxxIxLgN"
      },
      "execution_count": null,
      "outputs": []
    },
    {
      "cell_type": "code",
      "source": [
        "mean = X_train.mean(axis=0)\n",
        "std  = X_train.std(axis=0)\n",
        "\n",
        "X_train = (X_train-mean)/std\n",
        "X_valid = (X_valid-mean)/std\n",
        "X_test  = (X_test-mean)/std"
      ],
      "metadata": {
        "id": "y858qBlK-1pW"
      },
      "execution_count": null,
      "outputs": []
    },
    {
      "cell_type": "code",
      "source": [
        "nb_classes = len(np.unique(Y_train))\n",
        "Y_train = to_categorical(Y_train, nb_classes)\n",
        "Y_valid = to_categorical(Y_valid, nb_classes)\n",
        "Y_test  = to_categorical(Y_test, nb_classes)"
      ],
      "metadata": {
        "id": "xwZ4OJ6I8lba"
      },
      "execution_count": null,
      "outputs": []
    },
    {
      "cell_type": "code",
      "source": [
        "print(\"Shapes of the training, validation and test input data:\", X_train.shape, X_valid.shape, X_test.shape)\n",
        "print(\"Shapes of the training, validation and test output data:\", Y_train.shape, Y_valid.shape, Y_test.shape)\n",
        "print(\"Mean values of the training, validation and test input data:\", X_train.mean(), X_valid.mean(), X_test.mean())\n",
        "print(\"Standard deviation of the training, validation and test input data:\", X_train.std(), X_valid.std(), X_test.std())"
      ],
      "metadata": {
        "id": "O_jdJVcvX0vi",
        "colab": {
          "base_uri": "https://localhost:8080/"
        },
        "outputId": "40b0193d-d3a0-4de7-c2a3-ef6bab2833dd"
      },
      "execution_count": null,
      "outputs": [
        {
          "output_type": "stream",
          "name": "stdout",
          "text": [
            "Shapes of the training, validation and test input data: (40000, 32, 32, 3) (10000, 32, 32, 3) (10000, 32, 32, 3)\n",
            "Shapes of the training, validation and test output data: (40000, 10) (10000, 10) (10000, 10)\n",
            "Mean values of the training, validation and test input data: 2.2788842e-09 0.0023437198 0.013331206\n",
            "Standard deviation of the training, validation and test input data: 1.0000023 0.9965626 0.99783075\n"
          ]
        }
      ]
    },
    {
      "cell_type": "markdown",
      "metadata": {
        "id": "cJ14oyZExpqj"
      },
      "source": [
        "# 2. Exercise: training"
      ]
    },
    {
      "cell_type": "markdown",
      "source": [
        "Create and train a convolutional neural network with the following requirements:\n",
        "* apply early stopping with patience=5 and monitor the validation accuracy, don't forget to load back the best weights after early stopping\n",
        "* the number of trainable parameters is lower than 200.000\n",
        "* the validation accuracy must be higher than 72%\n",
        "\n",
        "Hints:\n",
        "* you can always inspect the number of trainable parameters per layer with model.summary()\n",
        "* usually the most trainable parameters are between the last convolutional layer and the next dense layer -- so you should have a reasonable output size at the last convolutional layer\n",
        "* regularization helps (e.g. DropOut and/or BatchNormalization)\n",
        "* use the right activation function at the output layer and the corresponding loss function\n",
        "* for the chosen activation functions, please use the appropriate initialization method\n",
        "* you can match the dimension of the last conv/pooling layer to the next dense layer with e.g. Flatten()\n",
        "* ADAM optimizer is a reasonable choice\n",
        "* don't forget to turn on GPU support in Colab, otherwise, it would be quite slow to train the networks\n",
        "\n"
      ],
      "metadata": {
        "id": "j1tGVPdD-pp3"
      }
    },
    {
      "cell_type": "code",
      "source": [
        "es = EarlyStopping(monitor='val_accuracy', patience=5, restore_best_weights=True) # early stopping\n",
        "\n",
        "# model definition\n",
        "model = Sequential()\n",
        "model.add(Conv2D(32, kernel_size=5, padding = \"same\", activation='relu', kernel_initializer=HeNormal(), input_shape=(32, 32, 3)))\n",
        "model.add(MaxPool2D(pool_size=(2,2)))\n",
        "model.add(Conv2D(64, kernel_size=5, padding = \"same\", activation='relu', kernel_initializer=HeNormal()))\n",
        "model.add(MaxPool2D(pool_size=(2,2)))\n",
        "model.add(Conv2D(64, kernel_size=5, padding = \"same\", activation='relu', kernel_initializer=HeNormal()))\n",
        "model.add(Dropout(0.3))\n",
        "model.add(Flatten())\n",
        "model.add(Dense(10, activation='relu', kernel_initializer=HeNormal()))\n",
        "model.add(BatchNormalization())\n",
        "model.add(Dropout(0.3))\n",
        "model.add(Dense(10, activation='softmax', kernel_initializer=HeNormal()))\n",
        "\n",
        "# loss function and optimizer\n",
        "model.compile(loss='categorical_crossentropy', optimizer='adam', metrics=['accuracy'])"
      ],
      "metadata": {
        "id": "PuxHOqLt-3Nd"
      },
      "execution_count": null,
      "outputs": []
    },
    {
      "cell_type": "code",
      "source": [
        "model.summary()"
      ],
      "metadata": {
        "id": "5eomQw8uE9Ix",
        "colab": {
          "base_uri": "https://localhost:8080/"
        },
        "outputId": "09cbe7aa-199e-4db1-c39f-42fb71e425df"
      },
      "execution_count": null,
      "outputs": [
        {
          "output_type": "stream",
          "name": "stdout",
          "text": [
            "Model: \"sequential_20\"\n",
            "_________________________________________________________________\n",
            " Layer (type)                Output Shape              Param #   \n",
            "=================================================================\n",
            " conv2d_51 (Conv2D)          (None, 32, 32, 32)        2432      \n",
            "                                                                 \n",
            " max_pooling2d_24 (MaxPooli  (None, 16, 16, 32)        0         \n",
            " ng2D)                                                           \n",
            "                                                                 \n",
            " conv2d_52 (Conv2D)          (None, 16, 16, 64)        51264     \n",
            "                                                                 \n",
            " max_pooling2d_25 (MaxPooli  (None, 8, 8, 64)          0         \n",
            " ng2D)                                                           \n",
            "                                                                 \n",
            " conv2d_53 (Conv2D)          (None, 8, 8, 64)          102464    \n",
            "                                                                 \n",
            " dropout_40 (Dropout)        (None, 8, 8, 64)          0         \n",
            "                                                                 \n",
            " flatten_17 (Flatten)        (None, 4096)              0         \n",
            "                                                                 \n",
            " dense_33 (Dense)            (None, 10)                40970     \n",
            "                                                                 \n",
            " batch_normalization_15 (Ba  (None, 10)                40        \n",
            " tchNormalization)                                               \n",
            "                                                                 \n",
            " dropout_41 (Dropout)        (None, 10)                0         \n",
            "                                                                 \n",
            " dense_34 (Dense)            (None, 10)                110       \n",
            "                                                                 \n",
            "=================================================================\n",
            "Total params: 197280 (770.62 KB)\n",
            "Trainable params: 197260 (770.55 KB)\n",
            "Non-trainable params: 20 (80.00 Byte)\n",
            "_________________________________________________________________\n"
          ]
        }
      ]
    },
    {
      "cell_type": "markdown",
      "source": [
        "Please, check the number of trainable paramers:"
      ],
      "metadata": {
        "id": "8tIbIIeTEI41"
      }
    },
    {
      "cell_type": "code",
      "source": [
        "print(\"#trainable parameters:\",model.count_params())"
      ],
      "metadata": {
        "id": "xdBAG7EJETlX",
        "colab": {
          "base_uri": "https://localhost:8080/"
        },
        "outputId": "90e0f31b-f282-4b0a-8062-03f51d13d22b"
      },
      "execution_count": null,
      "outputs": [
        {
          "output_type": "stream",
          "name": "stdout",
          "text": [
            "#trainable parameters: 197280\n"
          ]
        }
      ]
    },
    {
      "cell_type": "code",
      "source": [
        "# training\n",
        "network_history = model.fit(X_train, Y_train,\n",
        "          validation_data=(X_valid, Y_valid),\n",
        "          batch_size=32,\n",
        "          epochs=50,\n",
        "          callbacks=[es]\n",
        "         )"
      ],
      "metadata": {
        "id": "u8tFNCNVHyt9",
        "colab": {
          "base_uri": "https://localhost:8080/"
        },
        "outputId": "a991ea08-337a-44c9-f125-6cc37e672e29"
      },
      "execution_count": null,
      "outputs": [
        {
          "output_type": "stream",
          "name": "stdout",
          "text": [
            "Epoch 1/50\n",
            "1250/1250 [==============================] - 17s 11ms/step - loss: 2.0399 - accuracy: 0.2456 - val_loss: 1.6760 - val_accuracy: 0.3705\n",
            "Epoch 2/50\n",
            "1250/1250 [==============================] - 7s 6ms/step - loss: 1.7103 - accuracy: 0.3207 - val_loss: 1.5068 - val_accuracy: 0.4264\n",
            "Epoch 3/50\n",
            "1250/1250 [==============================] - 7s 6ms/step - loss: 1.6088 - accuracy: 0.3528 - val_loss: 1.3505 - val_accuracy: 0.4975\n",
            "Epoch 4/50\n",
            "1250/1250 [==============================] - 8s 6ms/step - loss: 1.5191 - accuracy: 0.3984 - val_loss: 1.2745 - val_accuracy: 0.5231\n",
            "Epoch 5/50\n",
            "1250/1250 [==============================] - 7s 6ms/step - loss: 1.3736 - accuracy: 0.4714 - val_loss: 1.0813 - val_accuracy: 0.6127\n",
            "Epoch 6/50\n",
            "1250/1250 [==============================] - 6s 5ms/step - loss: 1.2391 - accuracy: 0.5315 - val_loss: 0.9949 - val_accuracy: 0.6650\n",
            "Epoch 7/50\n",
            "1250/1250 [==============================] - 8s 6ms/step - loss: 1.1716 - accuracy: 0.5514 - val_loss: 0.9540 - val_accuracy: 0.6729\n",
            "Epoch 8/50\n",
            "1250/1250 [==============================] - 6s 5ms/step - loss: 1.1119 - accuracy: 0.5724 - val_loss: 0.9163 - val_accuracy: 0.6854\n",
            "Epoch 9/50\n",
            "1250/1250 [==============================] - 7s 6ms/step - loss: 1.0688 - accuracy: 0.5849 - val_loss: 0.8464 - val_accuracy: 0.7065\n",
            "Epoch 10/50\n",
            "1250/1250 [==============================] - 7s 6ms/step - loss: 1.0365 - accuracy: 0.5956 - val_loss: 0.8369 - val_accuracy: 0.7064\n",
            "Epoch 11/50\n",
            "1250/1250 [==============================] - 7s 5ms/step - loss: 0.9983 - accuracy: 0.6061 - val_loss: 0.8186 - val_accuracy: 0.7159\n",
            "Epoch 12/50\n",
            "1250/1250 [==============================] - 7s 6ms/step - loss: 0.9705 - accuracy: 0.6198 - val_loss: 0.8114 - val_accuracy: 0.7183\n",
            "Epoch 13/50\n",
            "1250/1250 [==============================] - 6s 5ms/step - loss: 0.9334 - accuracy: 0.6275 - val_loss: 0.8409 - val_accuracy: 0.7116\n",
            "Epoch 14/50\n",
            "1250/1250 [==============================] - 8s 6ms/step - loss: 0.9153 - accuracy: 0.6350 - val_loss: 0.8009 - val_accuracy: 0.7253\n",
            "Epoch 15/50\n",
            "1250/1250 [==============================] - 6s 5ms/step - loss: 0.8858 - accuracy: 0.6476 - val_loss: 0.7902 - val_accuracy: 0.7267\n",
            "Epoch 16/50\n",
            "1250/1250 [==============================] - 8s 6ms/step - loss: 0.8564 - accuracy: 0.6575 - val_loss: 0.7770 - val_accuracy: 0.7395\n",
            "Epoch 17/50\n",
            "1250/1250 [==============================] - 7s 5ms/step - loss: 0.8364 - accuracy: 0.6619 - val_loss: 0.7794 - val_accuracy: 0.7402\n",
            "Epoch 18/50\n",
            "1250/1250 [==============================] - 7s 5ms/step - loss: 0.8323 - accuracy: 0.6648 - val_loss: 0.7738 - val_accuracy: 0.7417\n",
            "Epoch 19/50\n",
            "1250/1250 [==============================] - 8s 6ms/step - loss: 0.8021 - accuracy: 0.6730 - val_loss: 0.7759 - val_accuracy: 0.7343\n",
            "Epoch 20/50\n",
            "1250/1250 [==============================] - 7s 6ms/step - loss: 0.7807 - accuracy: 0.6825 - val_loss: 0.7549 - val_accuracy: 0.7502\n",
            "Epoch 21/50\n",
            "1250/1250 [==============================] - 8s 6ms/step - loss: 0.7742 - accuracy: 0.6857 - val_loss: 0.8176 - val_accuracy: 0.7340\n",
            "Epoch 22/50\n",
            "1250/1250 [==============================] - 7s 5ms/step - loss: 0.7553 - accuracy: 0.6917 - val_loss: 0.8125 - val_accuracy: 0.7424\n",
            "Epoch 23/50\n",
            "1250/1250 [==============================] - 7s 5ms/step - loss: 0.7375 - accuracy: 0.6977 - val_loss: 0.7875 - val_accuracy: 0.7402\n",
            "Epoch 24/50\n",
            "1250/1250 [==============================] - 8s 6ms/step - loss: 0.7387 - accuracy: 0.6978 - val_loss: 0.7755 - val_accuracy: 0.7425\n",
            "Epoch 25/50\n",
            "1250/1250 [==============================] - 7s 6ms/step - loss: 0.7277 - accuracy: 0.7024 - val_loss: 0.8096 - val_accuracy: 0.7361\n"
          ]
        }
      ]
    },
    {
      "cell_type": "markdown",
      "source": [
        "# 3. Exercise: evaluation on test data\n",
        "You will evaluate the classification of the test data using the common metrics and the confusion matrix in this section.\n",
        "\n",
        "\n",
        "As a first stes, let's run the predictions and convert the predicted softmax outputs to dense labels. The one-hot encoded labels are also converted back to dense labels, as they are required for the evaluation functions."
      ],
      "metadata": {
        "id": "2FtKp-a2-A9m"
      }
    },
    {
      "cell_type": "code",
      "source": [
        "probas = model.predict(X_test)\n",
        "preds  = np.argmax(probas,axis=1)\n",
        "print(preds)\n",
        "Y_test_dense = np.argmax(Y_test, axis=1) # get the original dense labels of the test data\n",
        "print(Y_test_dense)"
      ],
      "metadata": {
        "id": "EcWAqwlDMq3y",
        "colab": {
          "base_uri": "https://localhost:8080/"
        },
        "outputId": "7145f0bc-2e4b-4b02-fd7f-0716ca4bd3b4"
      },
      "execution_count": null,
      "outputs": [
        {
          "output_type": "stream",
          "name": "stdout",
          "text": [
            "313/313 [==============================] - 1s 2ms/step\n",
            "[3 8 8 ... 5 0 7]\n",
            "[3 8 8 ... 5 1 7]\n"
          ]
        }
      ]
    },
    {
      "cell_type": "markdown",
      "source": [
        "## 3.1. Exercise: Metrics\n",
        "please review the common classification metrics (accuracy, precision, recall, F1) for the complete model (not per class).\n",
        "\n",
        "Hints:\n",
        "* use macro averaging\n",
        "* you have to import the right functions from [sklearn.metrics](https://scikit-learn.org/stable/modules/model_evaluation.html)\n"
      ],
      "metadata": {
        "id": "RWJ-PH_iMs9K"
      }
    },
    {
      "cell_type": "code",
      "source": [
        "from sklearn.metrics import accuracy_score, precision_score, recall_score, f1_score"
      ],
      "metadata": {
        "id": "5sKm5zHSMZ_x"
      },
      "execution_count": null,
      "outputs": []
    },
    {
      "cell_type": "code",
      "source": [
        "accuracy = accuracy_score(Y_test_dense, preds)\n",
        "precision = precision_score(Y_test_dense, preds, average='macro')\n",
        "recall = recall_score(Y_test_dense, preds, average='macro')\n",
        "f1 = f1_score(Y_test_dense, preds, average='macro')\n",
        "print(\"Accuracy:\", accuracy)\n",
        "print(\"Precision:\", precision)\n",
        "print(\"Recall:\", recall)\n",
        "print(\"F1:\", f1)"
      ],
      "metadata": {
        "id": "I3_9wgDREUna",
        "colab": {
          "base_uri": "https://localhost:8080/"
        },
        "outputId": "d80247fc-ee41-4500-80db-25bcd73d2acb"
      },
      "execution_count": null,
      "outputs": [
        {
          "output_type": "stream",
          "name": "stdout",
          "text": [
            "Accuracy: 0.7463\n",
            "Precision: 0.7486303117328102\n",
            "Recall: 0.7463\n",
            "F1: 0.7466062442838054\n"
          ]
        }
      ]
    },
    {
      "cell_type": "markdown",
      "source": [
        "\n",
        "## 3.2. Exercise: Confusion matrix\n",
        "Calculate the confusion matrix and display the results in a heatmap (with decimal values).\n",
        "\n",
        "Hints:\n",
        "* you have to do the imports this time too, e.g. from [sklearn.metrics](https://scikit-learn.org/stable/modules/model_evaluation.html) and the [heatmap function](https://seaborn.pydata.org/generated/seaborn.heatmap.html) of [seaborn](https://seaborn.pydata.org/)\n",
        "* for displaying the decimal values, you have to turn annot=True and define fmt='d' in the heatmap function of seaborn"
      ],
      "metadata": {
        "id": "ECHguBFtGL7f"
      }
    },
    {
      "cell_type": "code",
      "source": [
        "from sklearn.metrics import confusion_matrix\n",
        "import seaborn as sns"
      ],
      "metadata": {
        "id": "SIi2VzMBO3yD"
      },
      "execution_count": 102,
      "outputs": []
    },
    {
      "cell_type": "code",
      "metadata": {
        "id": "cdqODx92Svw7",
        "colab": {
          "base_uri": "https://localhost:8080/",
          "height": 540
        },
        "outputId": "a32bbd22-9faa-4287-affa-3d5a32e6f562"
      },
      "source": [
        "conf = confusion_matrix(Y_test_dense, preds)\n",
        "plt.figure(figsize=(7,6))\n",
        "sns.heatmap(conf, annot=True, fmt='d')"
      ],
      "execution_count": 103,
      "outputs": [
        {
          "output_type": "execute_result",
          "data": {
            "text/plain": [
              "<Axes: >"
            ]
          },
          "metadata": {},
          "execution_count": 103
        },
        {
          "output_type": "display_data",
          "data": {
            "text/plain": [
              "<Figure size 700x600 with 2 Axes>"
            ],
            "image/png": "[encoded data removed]"
          },
          "metadata": {}
        }
      ]
    },
    {
      "cell_type": "code",
      "source": [],
      "metadata": {
        "id": "eq-KKdhJOD59"
      },
      "execution_count": null,
      "outputs": []
    }
  ]
}