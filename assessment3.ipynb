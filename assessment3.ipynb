{
  "nbformat": 4,
  "nbformat_minor": 0,
  "metadata": {
    "anaconda-cloud": {},
    "kernelspec": {
      "display_name": "Python 3",
      "language": "python",
      "name": "python3"
    },
    "language_info": {
      "codemirror_mode": {
        "name": "ipython",
        "version": 3
      },
      "file_extension": ".py",
      "mimetype": "text/x-python",
      "name": "python",
      "nbconvert_exporter": "python",
      "pygments_lexer": "ipython3",
      "version": "3.6.6"
    },
    "colab": {
      "provenance": []
    },
    "accelerator": "GPU"
  },
  "cells": [
    {
      "cell_type": "markdown",
      "metadata": {
        "id": "cW-EyI5Lxpqi"
      },
      "source": [
        "# Copyright\n",
        "\n",
        "<PRE>\n",
        "Copyright (c) 2024 Bálint Gyires-Tóth - All Rights Reserved\n",
        "You may use and modify this code for research and development purpuses.\n",
        "Using this code for educational purposes (self-paced or instructor led) without the permission of the author is prohibited.\n",
        "</PRE>"
      ]
    },
    {
      "cell_type": "markdown",
      "source": [
        "# Example of data exploration, modeling, regulartion and prediction\n",
        "Our exercise today involves loading a standard dataset using TensorFlow Keras API, exploring the data, building a simple neural network, and evaluating the effects of basic methods (activation functions, regularization, weight initialization, etc.). We then perform predictions on the test set and inspect the results."
      ],
      "metadata": {
        "id": "3EX4cCa4WKJu"
      }
    },
    {
      "cell_type": "markdown",
      "source": [
        "# 1. Data\n",
        "The dataset we will use is the well-known CIFAR10 (Canadian Institute For Advanced Research). Explore the details on the Keras website first: https://keras.io/api/datasets/cifar10/\n",
        "\n",
        "After you explored the basic features of the data, let's load it into the memory and explore the shapes:"
      ],
      "metadata": {
        "id": "yY9fztIeWIKt"
      }
    },
    {
      "cell_type": "code",
      "source": [
        "from tensorflow.keras.datasets import cifar10\n",
        "from tensorflow.keras.utils import to_categorical\n",
        "import numpy as np"
      ],
      "metadata": {
        "id": "giRZKTjzX_7l"
      },
      "execution_count": null,
      "outputs": []
    },
    {
      "cell_type": "code",
      "source": [
        "(X_train, Y_train), (X_test, Y_test) = cifar10.load_data()"
      ],
      "metadata": {
        "id": "bez7q0eiWQCK",
        "colab": {
          "base_uri": "https://localhost:8080/"
        },
        "outputId": "8420e3b8-f5b3-4aff-fbf1-291337454559"
      },
      "execution_count": null,
      "outputs": [
        {
          "output_type": "stream",
          "name": "stdout",
          "text": [
            "Downloading data from https://www.cs.toronto.edu/~kriz/cifar-10-python.tar.gz\n",
            "170498071/170498071 [==============================] - 2s 0us/step\n"
          ]
        }
      ]
    },
    {
      "cell_type": "code",
      "source": [
        "print(X_train.shape)\n",
        "print(X_test.shape)\n",
        "print(Y_train.shape)\n",
        "print(Y_test.shape)"
      ],
      "metadata": {
        "id": "2tJoRq5wXywi",
        "colab": {
          "base_uri": "https://localhost:8080/"
        },
        "outputId": "db76aaec-2d50-46ef-f0c8-3177bea23122"
      },
      "execution_count": null,
      "outputs": [
        {
          "output_type": "stream",
          "name": "stdout",
          "text": [
            "(50000, 32, 32, 3)\n",
            "(10000, 32, 32, 3)\n",
            "(50000, 1)\n",
            "(10000, 1)\n"
          ]
        }
      ]
    },
    {
      "cell_type": "markdown",
      "source": [
        "## 1.1. Exercise\n",
        "Display the first ten images of the training data. Hints:\n",
        "* Axis 0 refers to the separate images, e.g. X_train[0]\n",
        "* You can use the [Matplotlib Pyplot imshow function](https://matplotlib.org/stable/api/_as_gen/matplotlib.pyplot.imshow.html) for displaying the image. Just don't forget to import Plotly first!\n",
        "* A corresponding example, but you have to modify the code for your purpose: https://stackoverflow.com/questions/46615554/how-to-display-multiple-images-in-one-figure-correctly"
      ],
      "metadata": {
        "id": "zTCSGFyDlNvf"
      }
    },
    {
      "cell_type": "code",
      "source": [
        "import matplotlib.pyplot as plt\n",
        "\n",
        "# Display 10 images without any labeling\n",
        "fig = plt.figure(figsize=(10, 10))\n",
        "columns = 5\n",
        "rows = 2\n",
        "for i in range(1, columns*rows + 1):\n",
        "    img = X_train[i-1]\n",
        "    fig.add_subplot(rows, columns, i)\n",
        "    plt.xticks([])\n",
        "    plt.yticks([])\n",
        "    plt.imshow(img)\n",
        "plt.show()"
      ],
      "metadata": {
        "id": "hIQhHTppmBdO",
        "outputId": "534f8187-02f0-404d-acf8-2da280de0082",
        "colab": {
          "base_uri": "https://localhost:8080/",
          "height": 590
        }
      },
      "execution_count": null,
      "outputs": [
        {
          "output_type": "display_data",
          "data": {
            "text/plain": [
              "<Figure size 1000x1000 with 10 Axes>"
            ],
            "image/png": "[encoded data removed]"
          },
          "metadata": {}
        }
      ]
    },
    {
      "cell_type": "code",
      "source": [],
      "metadata": {
        "id": "jFiSrbsEm3YX"
      },
      "execution_count": null,
      "outputs": []
    },
    {
      "cell_type": "markdown",
      "source": [
        "Print the corresponding labels of the displayed images from the target variable (Y_train):"
      ],
      "metadata": {
        "id": "FAQkUWlmm-bc"
      }
    },
    {
      "cell_type": "code",
      "source": [
        "labels = ['airplane', 'automobile', 'bird', 'cat', 'deer', 'dog', 'frog', 'horse', 'ship', 'truck']\n",
        "for i in range(10):\n",
        "  print(labels[Y_train[i][0]])"
      ],
      "metadata": {
        "id": "AkOrWzghnJ78",
        "outputId": "57232202-3ea0-429d-e188-4d7d28e7319d",
        "colab": {
          "base_uri": "https://localhost:8080/"
        }
      },
      "execution_count": null,
      "outputs": [
        {
          "output_type": "stream",
          "name": "stdout",
          "text": [
            "frog\n",
            "truck\n",
            "truck\n",
            "deer\n",
            "automobile\n",
            "automobile\n",
            "bird\n",
            "horse\n",
            "ship\n",
            "cat\n"
          ]
        }
      ]
    },
    {
      "cell_type": "markdown",
      "source": [
        "## 1.2. Exercise\n",
        "We will train a Multi-Layer Perceptron (MLP), which requires a 2 dimensional input: 0th axis refers to the datapoints (i.e. images), the 1th dimens to the input. As images are 3 dimensional (width, height, color channels), you have to reshape the images into vectors. We also call this flattening.\n",
        "\n",
        "In order to do so, calculate the size of the equivalent 1D vector of the image:"
      ],
      "metadata": {
        "id": "VX24g5FstsRU"
      }
    },
    {
      "cell_type": "code",
      "source": [
        "flattened_dim = 32*32*3"
      ],
      "metadata": {
        "id": "hdoMyxHzuXZG"
      },
      "execution_count": null,
      "outputs": []
    },
    {
      "cell_type": "markdown",
      "source": [
        "After you calculated it, we can reshape the images, and convert the integer arrays into float arrays -- which are needed for the neural networks as input. Hint:\n",
        "* in the [reshape() function of Numpy](https://www.w3schools.com/python/numpy/numpy_array_reshape.asp) you can use -1 for one axis, to automatically calculate that value."
      ],
      "metadata": {
        "id": "WbqXJUSFubeC"
      }
    },
    {
      "cell_type": "code",
      "source": [
        "# reshape 3D tensors to 2D tensors\n",
        "X_train = X_train.reshape(-1, flattened_dim)\n",
        "X_test = X_test.reshape(-1, flattened_dim)\n",
        "\n",
        "# it is in int8 format, the neural network requires float32\n",
        "X_train = X_train.astype('float32')\n",
        "X_test = X_test.astype('float32')"
      ],
      "metadata": {
        "id": "vukOcBM0XzSj"
      },
      "execution_count": null,
      "outputs": []
    },
    {
      "cell_type": "markdown",
      "source": [
        "## 1.3. Exercise\n",
        "As the next step, let's split the training data into training and validation data. 80% of the original training data should be the final training data, and 20% the validation.\n",
        "You should use Numpy indexing to select the first 80% of X_train as final X_train, and the last 20% as X_valid. Hints:\n",
        "* https://datascienceparichay.com/article/numpy-array-first-n-rows/\n",
        "* https://datascienceparichay.com/article/numpy-array-last-n-rows/"
      ],
      "metadata": {
        "id": "DO79AdIdvVfD"
      }
    },
    {
      "cell_type": "code",
      "source": [
        "train_ratio  = 0.8\n",
        "train_length = len(X_train) # length of the training data\n",
        "train_split  = int(train_ratio * train_length) # where to split the training and validation data\n",
        "\n",
        "# split the data into validation and training data\n",
        "X_valid, Y_valid = X_train[train_split:], Y_train[train_split:]\n",
        "X_train, Y_train = X_train[:train_split], Y_train[:train_split]"
      ],
      "metadata": {
        "id": "mRwuWxxIxLgN"
      },
      "execution_count": null,
      "outputs": []
    },
    {
      "cell_type": "code",
      "source": [
        "print(X_train.shape)"
      ],
      "metadata": {
        "id": "rJHGmsy9r_Ql",
        "outputId": "6350cd87-ef20-41ca-a1ad-3fa2146400c6",
        "colab": {
          "base_uri": "https://localhost:8080/"
        }
      },
      "execution_count": null,
      "outputs": [
        {
          "output_type": "stream",
          "name": "stdout",
          "text": [
            "(40000, 3072)\n"
          ]
        }
      ]
    },
    {
      "cell_type": "markdown",
      "source": [
        "## 1.4. Exercise\n",
        "As the last step of input data preparation, the data should be standardized. Calculate the mean and variance of the training data (elementvise -- so for each value of the flattened image you should get a mean and variance for the training data along 0th axis). Hint:\n",
        "* https://stackoverflow.com/questions/70626231/how-to-calculate-mean-variance-standard-deviation-per-index-of-array"
      ],
      "metadata": {
        "id": "z05y_QWDxWER"
      }
    },
    {
      "cell_type": "code",
      "source": [
        "mean = np.mean(X_train, axis=0)\n",
        "std  = np.std(X_train, axis=0)"
      ],
      "metadata": {
        "id": "TSZbvWCBx8Ea"
      },
      "execution_count": null,
      "outputs": []
    },
    {
      "cell_type": "markdown",
      "source": [
        "Next, use the resulting values to standardize the training, validation and test data by substracting the mean and dividing the result with the standard deviation."
      ],
      "metadata": {
        "id": "6WRHKkkjyN1S"
      }
    },
    {
      "cell_type": "code",
      "source": [
        "X_train = (X_train - mean)/std\n",
        "X_valid = (X_valid - mean)/std\n",
        "X_test  = (X_test - mean)/std"
      ],
      "metadata": {
        "id": "2ESLP1EIyB2J"
      },
      "execution_count": null,
      "outputs": []
    },
    {
      "cell_type": "markdown",
      "source": [
        "## 1.5. Exercise\n",
        "And as the last step, convert the dense representation of the classes (i.e. 0,1,2,3...9) to one-hot encoding (0 = [1 0 0 0 0 0 0 0 0 0], 1 = [0 1 0 0 0 0 0 0 0 0] ... 9 = [0 0 0 0 0 0 0 0 0 1]). To do this, first, calculate the number of unique elements in the target training data. Hints:\n",
        "* use the [unique() function](https://numpy.org/doc/stable/reference/generated/numpy.unique.html) of Numpy to list the unique elements\n",
        "* you can count the number of elements in a list with the [len() function](https://www.w3schools.com/python/ref_func_len.asp)"
      ],
      "metadata": {
        "id": "ooHCnUin7r4o"
      }
    },
    {
      "cell_type": "code",
      "source": [
        "nb_classes = len(np.unique(Y_train))"
      ],
      "metadata": {
        "id": "i0LAO9cs8KEE"
      },
      "execution_count": null,
      "outputs": []
    },
    {
      "cell_type": "markdown",
      "source": [
        "Doublecheck, if the same number of classes exists in the validation and test target data:"
      ],
      "metadata": {
        "id": "BvM6XhGe8JU9"
      }
    },
    {
      "cell_type": "code",
      "source": [
        "print(\"Validation data has the same number of classes, as the training data:\", nb_classes == len(np.unique(Y_valid)))\n",
        "print(\"Test data has the same number of classes, as the training data:\", nb_classes == len(np.unique(Y_test)))"
      ],
      "metadata": {
        "id": "eZFNSsyx_Py2",
        "outputId": "c237fb98-26e6-402b-f42a-9b62d3e3448c",
        "colab": {
          "base_uri": "https://localhost:8080/"
        }
      },
      "execution_count": null,
      "outputs": [
        {
          "output_type": "stream",
          "name": "stdout",
          "text": [
            "Validation data has the same number of classes, as the training data: True\n",
            "Test data has the same number of classes, as the training data: True\n"
          ]
        }
      ]
    },
    {
      "cell_type": "markdown",
      "source": [
        "And convert the dense representation into one-hot encoding. Hint:\n",
        "* use the [to_categorical function](https://www.tensorflow.org/api_docs/python/tf/keras/utils/to_categorical) with the calculated nb_classes\n"
      ],
      "metadata": {
        "id": "mJM-iBmR8dLe"
      }
    },
    {
      "cell_type": "code",
      "source": [
        "Y_train = to_categorical(Y_train, num_classes=nb_classes)\n",
        "Y_valid = to_categorical(Y_valid, num_classes=nb_classes)\n",
        "Y_test  = to_categorical(Y_test, num_classes=nb_classes)"
      ],
      "metadata": {
        "id": "xwZ4OJ6I8lba"
      },
      "execution_count": null,
      "outputs": []
    },
    {
      "cell_type": "markdown",
      "source": [
        "## Final check of data preparation\n",
        "Now, lets check the shapes and mean and standard deviation of the training, validation and test data."
      ],
      "metadata": {
        "id": "LshN2OSsv3TZ"
      }
    },
    {
      "cell_type": "code",
      "source": [
        "print(\"Shapes of the training, validation and test input data:\", X_train.shape, X_valid.shape, X_test.shape)\n",
        "print(\"Shapes of the training, validation and test output data:\", Y_train.shape, Y_valid.shape, Y_test.shape)\n",
        "print(\"Mean values of the training, validation and test input data:\", X_train.mean(), X_valid.mean(), X_test.mean())\n",
        "print(\"Standard deviation of the training, validation and test input data:\", X_train.std(), X_valid.std(), X_test.std())"
      ],
      "metadata": {
        "id": "O_jdJVcvX0vi",
        "outputId": "61842cb0-9d4b-48f7-de88-fa54ba2d9a73",
        "colab": {
          "base_uri": "https://localhost:8080/"
        }
      },
      "execution_count": null,
      "outputs": [
        {
          "output_type": "stream",
          "name": "stdout",
          "text": [
            "Shapes of the training, validation and test input data: (40000, 3072) (10000, 3072) (10000, 3072)\n",
            "Shapes of the training, validation and test output data: (40000, 10) (10000, 10) (10000, 10)\n",
            "Mean values of the training, validation and test input data: -2.4725992e-09 0.0023437182 0.013331188\n",
            "Standard deviation of the training, validation and test input data: 1.0000038 0.99656224 0.9978297\n"
          ]
        }
      ]
    },
    {
      "cell_type": "markdown",
      "source": [
        "Don't worry, if the mean and standard deviation of the validation and test data are not exactly 0 and 1, but these might be very mear to it (e.g. 0.01 mean, 0.99 variance)."
      ],
      "metadata": {
        "id": "5GtAOOoezmZY"
      }
    },
    {
      "cell_type": "markdown",
      "metadata": {
        "id": "cJ14oyZExpqj"
      },
      "source": [
        "# 2. Training"
      ]
    },
    {
      "cell_type": "markdown",
      "metadata": {
        "id": "s4ZXYRMBxpql"
      },
      "source": [
        "Let us begin with a simple example of creating a small neural network without regularization and training it with actual data. The purpose of this is to provide you with an example as to how to proceed with the next exercise."
      ]
    },
    {
      "cell_type": "code",
      "source": [
        "# imports\n",
        "import numpy as np\n",
        "import matplotlib.pyplot as plt\n",
        "from tensorflow.keras.models import Sequential\n",
        "from tensorflow.keras.layers import Dense, BatchNormalization, Embedding, Flatten, Dropout\n",
        "from tensorflow.keras.initializers import HeNormal\n",
        "from tensorflow.keras.callbacks import EarlyStopping"
      ],
      "metadata": {
        "id": "6-8Q6ll7ZDgq"
      },
      "execution_count": null,
      "outputs": []
    },
    {
      "cell_type": "code",
      "source": [
        "# model definition\n",
        "model = Sequential()\n",
        "model.add(Dense(128, activation='tanh', input_shape=(flattened_dim,)))\n",
        "model.add(Dense(128, activation='tanh'))\n",
        "model.add(Dense(nb_classes, activation='softmax'))\n",
        "\n",
        "# loss function and optimizer\n",
        "model.compile(loss='categorical_crossentropy', optimizer='adam', metrics=['accuracy'])"
      ],
      "metadata": {
        "id": "pke6w3CD8DHp"
      },
      "execution_count": null,
      "outputs": []
    },
    {
      "cell_type": "code",
      "metadata": {
        "id": "CZbOR76QxprC",
        "outputId": "cf141e4f-bcbb-4ae8-a0f5-62aaf3470fd8",
        "colab": {
          "base_uri": "https://localhost:8080/"
        }
      },
      "source": [
        "# training\n",
        "network_history = model.fit(X_train, Y_train,\n",
        "                            validation_data=(X_valid,Y_valid),\n",
        "                            batch_size=128,\n",
        "                            epochs=40,\n",
        "                            verbose=1)"
      ],
      "execution_count": null,
      "outputs": [
        {
          "output_type": "stream",
          "name": "stdout",
          "text": [
            "Epoch 1/40\n",
            "313/313 [==============================] - 5s 5ms/step - loss: 1.8148 - accuracy: 0.3681 - val_loss: 1.7583 - val_accuracy: 0.3905\n",
            "Epoch 2/40\n",
            "313/313 [==============================] - 1s 4ms/step - loss: 1.6943 - accuracy: 0.4099 - val_loss: 1.7375 - val_accuracy: 0.3964\n",
            "Epoch 3/40\n",
            "313/313 [==============================] - 1s 4ms/step - loss: 1.6422 - accuracy: 0.4304 - val_loss: 1.7025 - val_accuracy: 0.4096\n",
            "Epoch 4/40\n",
            "313/313 [==============================] - 1s 4ms/step - loss: 1.6003 - accuracy: 0.4445 - val_loss: 1.6792 - val_accuracy: 0.4207\n",
            "Epoch 5/40\n",
            "313/313 [==============================] - 2s 5ms/step - loss: 1.5659 - accuracy: 0.4570 - val_loss: 1.6684 - val_accuracy: 0.4237\n",
            "Epoch 6/40\n",
            "313/313 [==============================] - 2s 5ms/step - loss: 1.5375 - accuracy: 0.4678 - val_loss: 1.6537 - val_accuracy: 0.4291\n",
            "Epoch 7/40\n",
            "313/313 [==============================] - 1s 4ms/step - loss: 1.4991 - accuracy: 0.4836 - val_loss: 1.6737 - val_accuracy: 0.4191\n",
            "Epoch 8/40\n",
            "313/313 [==============================] - 1s 4ms/step - loss: 1.4787 - accuracy: 0.4882 - val_loss: 1.6482 - val_accuracy: 0.4321\n",
            "Epoch 9/40\n",
            "313/313 [==============================] - 1s 4ms/step - loss: 1.4535 - accuracy: 0.4941 - val_loss: 1.6489 - val_accuracy: 0.4313\n",
            "Epoch 10/40\n",
            "313/313 [==============================] - 1s 4ms/step - loss: 1.4319 - accuracy: 0.5032 - val_loss: 1.6492 - val_accuracy: 0.4363\n",
            "Epoch 11/40\n",
            "313/313 [==============================] - 1s 4ms/step - loss: 1.4011 - accuracy: 0.5142 - val_loss: 1.6397 - val_accuracy: 0.4443\n",
            "Epoch 12/40\n",
            "313/313 [==============================] - 1s 4ms/step - loss: 1.3771 - accuracy: 0.5231 - val_loss: 1.6420 - val_accuracy: 0.4411\n",
            "Epoch 13/40\n",
            "313/313 [==============================] - 1s 4ms/step - loss: 1.3608 - accuracy: 0.5286 - val_loss: 1.6315 - val_accuracy: 0.4403\n",
            "Epoch 14/40\n",
            "313/313 [==============================] - 2s 5ms/step - loss: 1.3360 - accuracy: 0.5361 - val_loss: 1.6360 - val_accuracy: 0.4466\n",
            "Epoch 15/40\n",
            "313/313 [==============================] - 2s 5ms/step - loss: 1.3174 - accuracy: 0.5449 - val_loss: 1.6379 - val_accuracy: 0.4460\n",
            "Epoch 16/40\n",
            "313/313 [==============================] - 1s 4ms/step - loss: 1.2907 - accuracy: 0.5541 - val_loss: 1.6545 - val_accuracy: 0.4422\n",
            "Epoch 17/40\n",
            "313/313 [==============================] - 1s 4ms/step - loss: 1.2782 - accuracy: 0.5552 - val_loss: 1.6380 - val_accuracy: 0.4454\n",
            "Epoch 18/40\n",
            "313/313 [==============================] - 1s 4ms/step - loss: 1.2579 - accuracy: 0.5641 - val_loss: 1.6581 - val_accuracy: 0.4509\n",
            "Epoch 19/40\n",
            "313/313 [==============================] - 1s 4ms/step - loss: 1.2397 - accuracy: 0.5727 - val_loss: 1.6573 - val_accuracy: 0.4438\n",
            "Epoch 20/40\n",
            "313/313 [==============================] - 1s 4ms/step - loss: 1.2122 - accuracy: 0.5827 - val_loss: 1.6583 - val_accuracy: 0.4522\n",
            "Epoch 21/40\n",
            "313/313 [==============================] - 1s 4ms/step - loss: 1.1997 - accuracy: 0.5862 - val_loss: 1.6586 - val_accuracy: 0.4466\n",
            "Epoch 22/40\n",
            "313/313 [==============================] - 1s 4ms/step - loss: 1.1803 - accuracy: 0.5912 - val_loss: 1.6756 - val_accuracy: 0.4459\n",
            "Epoch 23/40\n",
            "313/313 [==============================] - 2s 5ms/step - loss: 1.1611 - accuracy: 0.5979 - val_loss: 1.6767 - val_accuracy: 0.4459\n",
            "Epoch 24/40\n",
            "313/313 [==============================] - 1s 4ms/step - loss: 1.1490 - accuracy: 0.6024 - val_loss: 1.6728 - val_accuracy: 0.4546\n",
            "Epoch 25/40\n",
            "313/313 [==============================] - 1s 4ms/step - loss: 1.1323 - accuracy: 0.6089 - val_loss: 1.6968 - val_accuracy: 0.4497\n",
            "Epoch 26/40\n",
            "313/313 [==============================] - 1s 4ms/step - loss: 1.1225 - accuracy: 0.6128 - val_loss: 1.7042 - val_accuracy: 0.4511\n",
            "Epoch 27/40\n",
            "313/313 [==============================] - 1s 4ms/step - loss: 1.1006 - accuracy: 0.6213 - val_loss: 1.6995 - val_accuracy: 0.4562\n",
            "Epoch 28/40\n",
            "313/313 [==============================] - 1s 4ms/step - loss: 1.0807 - accuracy: 0.6284 - val_loss: 1.7143 - val_accuracy: 0.4480\n",
            "Epoch 29/40\n",
            "313/313 [==============================] - 1s 4ms/step - loss: 1.0681 - accuracy: 0.6321 - val_loss: 1.7283 - val_accuracy: 0.4464\n",
            "Epoch 30/40\n",
            "313/313 [==============================] - 1s 4ms/step - loss: 1.0451 - accuracy: 0.6426 - val_loss: 1.7423 - val_accuracy: 0.4404\n",
            "Epoch 31/40\n",
            "313/313 [==============================] - 1s 4ms/step - loss: 1.0369 - accuracy: 0.6434 - val_loss: 1.7455 - val_accuracy: 0.4443\n",
            "Epoch 32/40\n",
            "313/313 [==============================] - 2s 5ms/step - loss: 1.0169 - accuracy: 0.6501 - val_loss: 1.7537 - val_accuracy: 0.4442\n",
            "Epoch 33/40\n",
            "313/313 [==============================] - 1s 4ms/step - loss: 0.9986 - accuracy: 0.6561 - val_loss: 1.7695 - val_accuracy: 0.4415\n",
            "Epoch 34/40\n",
            "313/313 [==============================] - 1s 4ms/step - loss: 0.9823 - accuracy: 0.6625 - val_loss: 1.7719 - val_accuracy: 0.4474\n",
            "Epoch 35/40\n",
            "313/313 [==============================] - 1s 4ms/step - loss: 0.9705 - accuracy: 0.6677 - val_loss: 1.7943 - val_accuracy: 0.4409\n",
            "Epoch 36/40\n",
            "313/313 [==============================] - 1s 4ms/step - loss: 0.9557 - accuracy: 0.6730 - val_loss: 1.7926 - val_accuracy: 0.4420\n",
            "Epoch 37/40\n",
            "313/313 [==============================] - 1s 4ms/step - loss: 0.9254 - accuracy: 0.6823 - val_loss: 1.8214 - val_accuracy: 0.4443\n",
            "Epoch 38/40\n",
            "313/313 [==============================] - 1s 4ms/step - loss: 0.9276 - accuracy: 0.6815 - val_loss: 1.8421 - val_accuracy: 0.4345\n",
            "Epoch 39/40\n",
            "313/313 [==============================] - 1s 4ms/step - loss: 0.9167 - accuracy: 0.6861 - val_loss: 1.8164 - val_accuracy: 0.4455\n",
            "Epoch 40/40\n",
            "313/313 [==============================] - 2s 5ms/step - loss: 0.8918 - accuracy: 0.6941 - val_loss: 1.8459 - val_accuracy: 0.4443\n"
          ]
        }
      ]
    },
    {
      "cell_type": "markdown",
      "metadata": {
        "id": "uFqhzV85xprJ"
      },
      "source": [
        "Let's plot the training and validation loss and accuracy curves:"
      ]
    },
    {
      "cell_type": "code",
      "metadata": {
        "id": "BYmXGkLCxprK",
        "outputId": "5721471d-5590-45ee-b1bb-ab2c93040fc5",
        "colab": {
          "base_uri": "https://localhost:8080/",
          "height": 881
        }
      },
      "source": [
        "def plot_history(network_history):\n",
        "    plt.figure()\n",
        "    plt.xlabel('Epochs')\n",
        "    plt.ylabel('Loss')\n",
        "    plt.plot(network_history.history['loss'])\n",
        "    plt.plot(network_history.history['val_loss'])\n",
        "    plt.legend(['Training', 'Validation'])\n",
        "\n",
        "    plt.figure()\n",
        "    plt.xlabel('Epochs')\n",
        "    plt.ylabel('Accuracy')\n",
        "    plt.plot(network_history.history['accuracy'])\n",
        "    plt.plot(network_history.history['val_accuracy'])\n",
        "    plt.legend(['Training', 'Validation'], loc='lower right')\n",
        "    plt.show()\n",
        "\n",
        "plot_history(network_history)"
      ],
      "execution_count": null,
      "outputs": [
        {
          "output_type": "display_data",
          "data": {
            "text/plain": [
              "<Figure size 640x480 with 1 Axes>"
            ],
            "image/png": "[encoded data removed]"
          },
          "metadata": {}
        },
        {
          "output_type": "display_data",
          "data": {
            "text/plain": [
              "<Figure size 640x480 with 1 Axes>"
            ],
            "image/png": "[encoded data removed]"
          },
          "metadata": {}
        }
      ]
    },
    {
      "cell_type": "markdown",
      "source": [
        "What do you think? Does it overfit?"
      ],
      "metadata": {
        "id": "tgG7QeXF-dx6"
      }
    },
    {
      "cell_type": "markdown",
      "metadata": {
        "id": "_Q9rIeBBxprO"
      },
      "source": [
        "# Inspecting the model"
      ]
    },
    {
      "cell_type": "code",
      "metadata": {
        "id": "6r2AmmoMxprP",
        "outputId": "8990798f-d981-4eba-bf23-85249751fa74",
        "colab": {
          "base_uri": "https://localhost:8080/"
        }
      },
      "source": [
        "model.summary()"
      ],
      "execution_count": null,
      "outputs": [
        {
          "output_type": "stream",
          "name": "stdout",
          "text": [
            "Model: \"sequential\"\n",
            "_________________________________________________________________\n",
            " Layer (type)                Output Shape              Param #   \n",
            "=================================================================\n",
            " dense (Dense)               (None, 128)               393344    \n",
            "                                                                 \n",
            " dense_1 (Dense)             (None, 128)               16512     \n",
            "                                                                 \n",
            " dense_2 (Dense)             (None, 10)                1290      \n",
            "                                                                 \n",
            "=================================================================\n",
            "Total params: 411146 (1.57 MB)\n",
            "Trainable params: 411146 (1.57 MB)\n",
            "Non-trainable params: 0 (0.00 Byte)\n",
            "_________________________________________________________________\n"
          ]
        }
      ]
    },
    {
      "cell_type": "code",
      "metadata": {
        "id": "D3-bVDVuxprS",
        "outputId": "8307c14f-295b-4af7-8f98-a5291790a5a6",
        "colab": {
          "base_uri": "https://localhost:8080/"
        }
      },
      "source": [
        "print('Input: ', model.input)"
      ],
      "execution_count": null,
      "outputs": [
        {
          "output_type": "stream",
          "name": "stdout",
          "text": [
            "Input:  KerasTensor(type_spec=TensorSpec(shape=(None, 3072), dtype=tf.float32, name='dense_input'), name='dense_input', description=\"created by layer 'dense_input'\")\n"
          ]
        }
      ]
    },
    {
      "cell_type": "code",
      "metadata": {
        "id": "Da2OJ3DmxprX",
        "outputId": "2da13f66-11bc-46f0-87b0-87fea4fd871b",
        "colab": {
          "base_uri": "https://localhost:8080/"
        }
      },
      "source": [
        "print('Layers:\\n')\n",
        "for layer in model.layers:\n",
        "    print(\"Layer's name: \", layer.name, ', trainable: ', layer.trainable)\n",
        "    print(layer.get_config(),'\\n')"
      ],
      "execution_count": null,
      "outputs": [
        {
          "output_type": "stream",
          "name": "stdout",
          "text": [
            "Layers:\n",
            "\n",
            "Layer's name:  dense , trainable:  True\n",
            "{'name': 'dense', 'trainable': True, 'dtype': 'float32', 'batch_input_shape': (None, 3072), 'units': 128, 'activation': 'tanh', 'use_bias': True, 'kernel_initializer': {'module': 'keras.initializers', 'class_name': 'GlorotUniform', 'config': {'seed': None}, 'registered_name': None}, 'bias_initializer': {'module': 'keras.initializers', 'class_name': 'Zeros', 'config': {}, 'registered_name': None}, 'kernel_regularizer': None, 'bias_regularizer': None, 'activity_regularizer': None, 'kernel_constraint': None, 'bias_constraint': None} \n",
            "\n",
            "Layer's name:  dense_1 , trainable:  True\n",
            "{'name': 'dense_1', 'trainable': True, 'dtype': 'float32', 'units': 128, 'activation': 'tanh', 'use_bias': True, 'kernel_initializer': {'module': 'keras.initializers', 'class_name': 'GlorotUniform', 'config': {'seed': None}, 'registered_name': None}, 'bias_initializer': {'module': 'keras.initializers', 'class_name': 'Zeros', 'config': {}, 'registered_name': None}, 'kernel_regularizer': None, 'bias_regularizer': None, 'activity_regularizer': None, 'kernel_constraint': None, 'bias_constraint': None} \n",
            "\n",
            "Layer's name:  dense_2 , trainable:  True\n",
            "{'name': 'dense_2', 'trainable': True, 'dtype': 'float32', 'units': 10, 'activation': 'softmax', 'use_bias': True, 'kernel_initializer': {'module': 'keras.initializers', 'class_name': 'GlorotUniform', 'config': {'seed': None}, 'registered_name': None}, 'bias_initializer': {'module': 'keras.initializers', 'class_name': 'Zeros', 'config': {}, 'registered_name': None}, 'kernel_regularizer': None, 'bias_regularizer': None, 'activity_regularizer': None, 'kernel_constraint': None, 'bias_constraint': None} \n",
            "\n"
          ]
        }
      ]
    },
    {
      "cell_type": "code",
      "metadata": {
        "id": "AtVX3M3lxprc",
        "outputId": "e80784d6-e9f5-4c17-a3c8-23786a74393d",
        "colab": {
          "base_uri": "https://localhost:8080/"
        }
      },
      "source": [
        "print('Output: ', model.output)"
      ],
      "execution_count": null,
      "outputs": [
        {
          "output_type": "stream",
          "name": "stdout",
          "text": [
            "Output:  KerasTensor(type_spec=TensorSpec(shape=(None, 10), dtype=tf.float32, name=None), name='dense_2/Softmax:0', description=\"created by layer 'dense_2'\")\n"
          ]
        }
      ]
    },
    {
      "cell_type": "markdown",
      "source": [
        "## 2.1. Exercise\n",
        "Introduce [early stopping](https://www.tensorflow.org/api_docs/python/tf/keras/callbacks/EarlyStopping) and [dropout](https://www.tensorflow.org/api_docs/python/tf/keras/layers/Dropout) with a rate between 0.1..0.5. Tips:\n",
        "\n",
        "* Insert the dropout layer between the two Dense layers.\n",
        "* Set the patience of early stopping to 5.\n",
        "* Set the number of epochs to a very high number.\n",
        "* Don't forget to restore best weights after early stopping.\n",
        "* And also set early stopping to monitor validation accuracy (the default value is validation loss -- which is categorical crossentropy now).\n",
        "\n",
        "Compile and train the model. Attempt to increase the validation accuracy as much as possible by making changes to the dropout rate. Inspect the effects of the modifications."
      ],
      "metadata": {
        "id": "E-hHfs9qA_iO"
      }
    },
    {
      "cell_type": "code",
      "source": [
        "from tensorflow.keras import callbacks\n",
        "es = callbacks.EarlyStopping(\n",
        "    monitor='val_accuracy',\n",
        "    patience=5,\n",
        "    min_delta=0.001,\n",
        "    restore_best_weights=True,\n",
        ")"
      ],
      "metadata": {
        "id": "NwXrPzOgEBG-"
      },
      "execution_count": null,
      "outputs": []
    },
    {
      "cell_type": "code",
      "source": [
        "# model definition with dropout\n",
        "model = Sequential()\n",
        "model.add(Dense(128, activation='tanh', input_shape=(flattened_dim,)))\n",
        "model.add(Dropout(rate=0.25))\n",
        "model.add(Dense(128, activation='tanh'))\n",
        "model.add(Dense(nb_classes, activation='softmax'))\n",
        "\n",
        "# loss function and optimizer\n",
        "model.compile(loss='categorical_crossentropy', optimizer='adam', metrics=['accuracy'])"
      ],
      "metadata": {
        "id": "7hZEGzj8GFwP"
      },
      "execution_count": null,
      "outputs": []
    },
    {
      "cell_type": "code",
      "source": [
        "# training with early stopping\n",
        "network_history = model.fit(X_train, Y_train,\n",
        "                            validation_data=(X_valid,Y_valid),\n",
        "                            batch_size=128,\n",
        "                            epochs=10000000,\n",
        "                            verbose=1,\n",
        "                            callbacks=[es])\n",
        "# rate = 0.1, accuracy = 0.4709\n",
        "# rate = 0.2, accuracy = 0.4728\n",
        "# rate = 0.3, accuracy = 0.4810\n",
        "# rate = 0.4, accuracy = 0.4582\n",
        "# rate = 0.5, accuracy = 0.4620\n",
        "# ...\n",
        "# rate = 0.8, accuracy = 0.3996"
      ],
      "metadata": {
        "id": "GCG54R-vGGWj",
        "outputId": "87cba61f-465c-4e8b-c448-1cd877600fc6",
        "colab": {
          "base_uri": "https://localhost:8080/"
        }
      },
      "execution_count": null,
      "outputs": [
        {
          "output_type": "stream",
          "name": "stdout",
          "text": [
            "Epoch 1/10000000\n",
            "313/313 [==============================] - 3s 6ms/step - loss: 1.8763 - accuracy: 0.3415 - val_loss: 1.7672 - val_accuracy: 0.3805\n",
            "Epoch 2/10000000\n",
            "313/313 [==============================] - 1s 4ms/step - loss: 1.7647 - accuracy: 0.3818 - val_loss: 1.7292 - val_accuracy: 0.3990\n",
            "Epoch 3/10000000\n",
            "313/313 [==============================] - 1s 5ms/step - loss: 1.7216 - accuracy: 0.3969 - val_loss: 1.7169 - val_accuracy: 0.4067\n",
            "Epoch 4/10000000\n",
            "313/313 [==============================] - 1s 5ms/step - loss: 1.6879 - accuracy: 0.4125 - val_loss: 1.6930 - val_accuracy: 0.4144\n",
            "Epoch 5/10000000\n",
            "313/313 [==============================] - 2s 5ms/step - loss: 1.6595 - accuracy: 0.4186 - val_loss: 1.6823 - val_accuracy: 0.4211\n",
            "Epoch 6/10000000\n",
            "313/313 [==============================] - 2s 5ms/step - loss: 1.6348 - accuracy: 0.4336 - val_loss: 1.6559 - val_accuracy: 0.4294\n",
            "Epoch 7/10000000\n",
            "313/313 [==============================] - 1s 4ms/step - loss: 1.6202 - accuracy: 0.4365 - val_loss: 1.6447 - val_accuracy: 0.4316\n",
            "Epoch 8/10000000\n",
            "313/313 [==============================] - 1s 5ms/step - loss: 1.5973 - accuracy: 0.4438 - val_loss: 1.6253 - val_accuracy: 0.4352\n",
            "Epoch 9/10000000\n",
            "313/313 [==============================] - 1s 4ms/step - loss: 1.5820 - accuracy: 0.4463 - val_loss: 1.6160 - val_accuracy: 0.4401\n",
            "Epoch 10/10000000\n",
            "313/313 [==============================] - 1s 5ms/step - loss: 1.5653 - accuracy: 0.4517 - val_loss: 1.6131 - val_accuracy: 0.4361\n",
            "Epoch 11/10000000\n",
            "313/313 [==============================] - 1s 4ms/step - loss: 1.5507 - accuracy: 0.4545 - val_loss: 1.6086 - val_accuracy: 0.4331\n",
            "Epoch 12/10000000\n",
            "313/313 [==============================] - 1s 4ms/step - loss: 1.5345 - accuracy: 0.4617 - val_loss: 1.5973 - val_accuracy: 0.4409\n",
            "Epoch 13/10000000\n",
            "313/313 [==============================] - 1s 5ms/step - loss: 1.5211 - accuracy: 0.4660 - val_loss: 1.5901 - val_accuracy: 0.4434\n",
            "Epoch 14/10000000\n",
            "313/313 [==============================] - 2s 6ms/step - loss: 1.5105 - accuracy: 0.4722 - val_loss: 1.5709 - val_accuracy: 0.4520\n",
            "Epoch 15/10000000\n",
            "313/313 [==============================] - 1s 5ms/step - loss: 1.5006 - accuracy: 0.4735 - val_loss: 1.5666 - val_accuracy: 0.4511\n",
            "Epoch 16/10000000\n",
            "313/313 [==============================] - 1s 4ms/step - loss: 1.4853 - accuracy: 0.4805 - val_loss: 1.5677 - val_accuracy: 0.4516\n",
            "Epoch 17/10000000\n",
            "313/313 [==============================] - 1s 5ms/step - loss: 1.4749 - accuracy: 0.4815 - val_loss: 1.5623 - val_accuracy: 0.4502\n",
            "Epoch 18/10000000\n",
            "313/313 [==============================] - 1s 5ms/step - loss: 1.4643 - accuracy: 0.4828 - val_loss: 1.5481 - val_accuracy: 0.4569\n",
            "Epoch 19/10000000\n",
            "313/313 [==============================] - 1s 5ms/step - loss: 1.4496 - accuracy: 0.4894 - val_loss: 1.5519 - val_accuracy: 0.4572\n",
            "Epoch 20/10000000\n",
            "313/313 [==============================] - 1s 4ms/step - loss: 1.4443 - accuracy: 0.4904 - val_loss: 1.5452 - val_accuracy: 0.4626\n",
            "Epoch 21/10000000\n",
            "313/313 [==============================] - 1s 4ms/step - loss: 1.4351 - accuracy: 0.4961 - val_loss: 1.5392 - val_accuracy: 0.4640\n",
            "Epoch 22/10000000\n",
            "313/313 [==============================] - 2s 6ms/step - loss: 1.4329 - accuracy: 0.4965 - val_loss: 1.5311 - val_accuracy: 0.4621\n",
            "Epoch 23/10000000\n",
            "313/313 [==============================] - 1s 5ms/step - loss: 1.4177 - accuracy: 0.5031 - val_loss: 1.5294 - val_accuracy: 0.4627\n",
            "Epoch 24/10000000\n",
            "313/313 [==============================] - 1s 5ms/step - loss: 1.4117 - accuracy: 0.5026 - val_loss: 1.5202 - val_accuracy: 0.4648\n",
            "Epoch 25/10000000\n",
            "313/313 [==============================] - 1s 5ms/step - loss: 1.4027 - accuracy: 0.5037 - val_loss: 1.5161 - val_accuracy: 0.4666\n",
            "Epoch 26/10000000\n",
            "313/313 [==============================] - 1s 4ms/step - loss: 1.3935 - accuracy: 0.5092 - val_loss: 1.5236 - val_accuracy: 0.4670\n",
            "Epoch 27/10000000\n",
            "313/313 [==============================] - 1s 5ms/step - loss: 1.3888 - accuracy: 0.5092 - val_loss: 1.5164 - val_accuracy: 0.4734\n",
            "Epoch 28/10000000\n",
            "313/313 [==============================] - 1s 5ms/step - loss: 1.3836 - accuracy: 0.5125 - val_loss: 1.5132 - val_accuracy: 0.4707\n",
            "Epoch 29/10000000\n",
            "313/313 [==============================] - 1s 4ms/step - loss: 1.3771 - accuracy: 0.5139 - val_loss: 1.5203 - val_accuracy: 0.4672\n",
            "Epoch 30/10000000\n",
            "313/313 [==============================] - 2s 5ms/step - loss: 1.3718 - accuracy: 0.5180 - val_loss: 1.5039 - val_accuracy: 0.4766\n",
            "Epoch 31/10000000\n",
            "313/313 [==============================] - 2s 6ms/step - loss: 1.3678 - accuracy: 0.5171 - val_loss: 1.5092 - val_accuracy: 0.4700\n",
            "Epoch 32/10000000\n",
            "313/313 [==============================] - 1s 4ms/step - loss: 1.3593 - accuracy: 0.5203 - val_loss: 1.5170 - val_accuracy: 0.4665\n",
            "Epoch 33/10000000\n",
            "313/313 [==============================] - 1s 5ms/step - loss: 1.3578 - accuracy: 0.5213 - val_loss: 1.5136 - val_accuracy: 0.4699\n",
            "Epoch 34/10000000\n",
            "313/313 [==============================] - 1s 4ms/step - loss: 1.3458 - accuracy: 0.5231 - val_loss: 1.5095 - val_accuracy: 0.4756\n",
            "Epoch 35/10000000\n",
            "313/313 [==============================] - 1s 4ms/step - loss: 1.3424 - accuracy: 0.5250 - val_loss: 1.4917 - val_accuracy: 0.4815\n",
            "Epoch 36/10000000\n",
            "313/313 [==============================] - 1s 5ms/step - loss: 1.3405 - accuracy: 0.5245 - val_loss: 1.4904 - val_accuracy: 0.4828\n",
            "Epoch 37/10000000\n",
            "313/313 [==============================] - 1s 4ms/step - loss: 1.3364 - accuracy: 0.5251 - val_loss: 1.4956 - val_accuracy: 0.4766\n",
            "Epoch 38/10000000\n",
            "313/313 [==============================] - 1s 5ms/step - loss: 1.3265 - accuracy: 0.5305 - val_loss: 1.4913 - val_accuracy: 0.4744\n",
            "Epoch 39/10000000\n",
            "313/313 [==============================] - 2s 6ms/step - loss: 1.3241 - accuracy: 0.5335 - val_loss: 1.4890 - val_accuracy: 0.4754\n",
            "Epoch 40/10000000\n",
            "313/313 [==============================] - 1s 4ms/step - loss: 1.3089 - accuracy: 0.5355 - val_loss: 1.4981 - val_accuracy: 0.4789\n",
            "Epoch 41/10000000\n",
            "313/313 [==============================] - 1s 5ms/step - loss: 1.3109 - accuracy: 0.5367 - val_loss: 1.4969 - val_accuracy: 0.4757\n"
          ]
        }
      ]
    },
    {
      "cell_type": "markdown",
      "source": [
        "## 2.2 Exercise\n",
        "Change the [activation function of the dense layers (except the last one)](https://www.tensorflow.org/api_docs/python/tf/keras/layers/Dense) to rectified linear unit (ReLU) and the [weight initialization](https://www.tensorflow.org/api_docs/python/tf/keras/initializers) to the theoretically best one. Use the original model's code.\n",
        "\n",
        "Compile and train the model. Inspect the effects of the modifications."
      ],
      "metadata": {
        "id": "zQCDM1o1BBtF"
      }
    },
    {
      "cell_type": "code",
      "source": [
        "# model definition with relu\n",
        "model = Sequential()\n",
        "model.add(Dense(128, activation='relu', kernel_initializer='he_uniform', input_shape=(flattened_dim,)))\n",
        "model.add(Dense(128, activation='relu', kernel_initializer='he_uniform'))\n",
        "model.add(Dense(nb_classes, activation='softmax'))\n",
        "\n",
        "# loss function and optimizer\n",
        "model.compile(loss='categorical_crossentropy', optimizer='adam', metrics=['accuracy'])"
      ],
      "metadata": {
        "id": "YjHAAh-wGu9O"
      },
      "execution_count": null,
      "outputs": []
    },
    {
      "cell_type": "code",
      "source": [
        "# training\n",
        "network_history = model.fit(X_train, Y_train,\n",
        "                            validation_data=(X_valid,Y_valid),\n",
        "                            batch_size=128,\n",
        "                            epochs=40,\n",
        "                            verbose=1)"
      ],
      "metadata": {
        "id": "rarwKM1wGxMz",
        "outputId": "22f6fb52-de79-487b-92dd-f4164686bdc9",
        "colab": {
          "base_uri": "https://localhost:8080/"
        }
      },
      "execution_count": null,
      "outputs": [
        {
          "output_type": "stream",
          "name": "stdout",
          "text": [
            "Epoch 1/40\n",
            "313/313 [==============================] - 3s 6ms/step - loss: 1.8610 - accuracy: 0.3751 - val_loss: 1.6943 - val_accuracy: 0.4046\n",
            "Epoch 2/40\n",
            "313/313 [==============================] - 1s 4ms/step - loss: 1.5576 - accuracy: 0.4593 - val_loss: 1.6078 - val_accuracy: 0.4431\n",
            "Epoch 3/40\n",
            "313/313 [==============================] - 1s 4ms/step - loss: 1.4283 - accuracy: 0.5024 - val_loss: 1.5600 - val_accuracy: 0.4653\n",
            "Epoch 4/40\n",
            "313/313 [==============================] - 1s 4ms/step - loss: 1.3436 - accuracy: 0.5321 - val_loss: 1.5387 - val_accuracy: 0.4773\n",
            "Epoch 5/40\n",
            "313/313 [==============================] - 1s 5ms/step - loss: 1.2576 - accuracy: 0.5594 - val_loss: 1.5193 - val_accuracy: 0.4849\n",
            "Epoch 6/40\n",
            "313/313 [==============================] - 1s 4ms/step - loss: 1.2025 - accuracy: 0.5799 - val_loss: 1.5209 - val_accuracy: 0.4970\n",
            "Epoch 7/40\n",
            "313/313 [==============================] - 2s 5ms/step - loss: 1.1488 - accuracy: 0.5957 - val_loss: 1.5433 - val_accuracy: 0.4866\n",
            "Epoch 8/40\n",
            "313/313 [==============================] - 2s 5ms/step - loss: 1.1039 - accuracy: 0.6136 - val_loss: 1.5182 - val_accuracy: 0.4956\n",
            "Epoch 9/40\n",
            "313/313 [==============================] - 1s 4ms/step - loss: 1.0502 - accuracy: 0.6311 - val_loss: 1.5474 - val_accuracy: 0.5024\n",
            "Epoch 10/40\n",
            "313/313 [==============================] - 1s 4ms/step - loss: 1.0152 - accuracy: 0.6457 - val_loss: 1.5497 - val_accuracy: 0.5009\n",
            "Epoch 11/40\n",
            "313/313 [==============================] - 1s 4ms/step - loss: 0.9569 - accuracy: 0.6664 - val_loss: 1.6611 - val_accuracy: 0.4806\n",
            "Epoch 12/40\n",
            "313/313 [==============================] - 1s 4ms/step - loss: 0.9327 - accuracy: 0.6747 - val_loss: 1.6285 - val_accuracy: 0.4972\n",
            "Epoch 13/40\n",
            "313/313 [==============================] - 1s 4ms/step - loss: 0.8892 - accuracy: 0.6884 - val_loss: 1.6652 - val_accuracy: 0.4939\n",
            "Epoch 14/40\n",
            "313/313 [==============================] - 1s 4ms/step - loss: 0.8559 - accuracy: 0.7001 - val_loss: 1.7275 - val_accuracy: 0.4912\n",
            "Epoch 15/40\n",
            "313/313 [==============================] - 1s 4ms/step - loss: 0.8124 - accuracy: 0.7148 - val_loss: 1.7901 - val_accuracy: 0.4854\n",
            "Epoch 16/40\n",
            "313/313 [==============================] - 2s 5ms/step - loss: 0.7798 - accuracy: 0.7261 - val_loss: 1.7830 - val_accuracy: 0.4893\n",
            "Epoch 17/40\n",
            "313/313 [==============================] - 2s 5ms/step - loss: 0.7464 - accuracy: 0.7406 - val_loss: 1.8309 - val_accuracy: 0.4873\n",
            "Epoch 18/40\n",
            "313/313 [==============================] - 1s 4ms/step - loss: 0.7142 - accuracy: 0.7516 - val_loss: 1.8787 - val_accuracy: 0.4874\n",
            "Epoch 19/40\n",
            "313/313 [==============================] - 1s 5ms/step - loss: 0.6932 - accuracy: 0.7584 - val_loss: 1.9707 - val_accuracy: 0.4848\n",
            "Epoch 20/40\n",
            "313/313 [==============================] - 1s 5ms/step - loss: 0.6560 - accuracy: 0.7703 - val_loss: 2.0005 - val_accuracy: 0.4864\n",
            "Epoch 21/40\n",
            "313/313 [==============================] - 1s 5ms/step - loss: 0.6355 - accuracy: 0.7781 - val_loss: 2.0074 - val_accuracy: 0.4854\n",
            "Epoch 22/40\n",
            "313/313 [==============================] - 1s 5ms/step - loss: 0.6043 - accuracy: 0.7915 - val_loss: 2.1162 - val_accuracy: 0.4776\n",
            "Epoch 23/40\n",
            "313/313 [==============================] - 1s 4ms/step - loss: 0.5766 - accuracy: 0.7969 - val_loss: 2.1745 - val_accuracy: 0.4826\n",
            "Epoch 24/40\n",
            "313/313 [==============================] - 2s 5ms/step - loss: 0.5682 - accuracy: 0.8026 - val_loss: 2.2151 - val_accuracy: 0.4747\n",
            "Epoch 25/40\n",
            "313/313 [==============================] - 2s 6ms/step - loss: 0.5341 - accuracy: 0.8138 - val_loss: 2.2084 - val_accuracy: 0.4885\n",
            "Epoch 26/40\n",
            "313/313 [==============================] - 1s 4ms/step - loss: 0.5123 - accuracy: 0.8215 - val_loss: 2.3276 - val_accuracy: 0.4933\n",
            "Epoch 27/40\n",
            "313/313 [==============================] - 1s 5ms/step - loss: 0.4970 - accuracy: 0.8267 - val_loss: 2.3895 - val_accuracy: 0.4825\n",
            "Epoch 28/40\n",
            "313/313 [==============================] - 1s 4ms/step - loss: 0.4791 - accuracy: 0.8326 - val_loss: 2.4692 - val_accuracy: 0.4764\n",
            "Epoch 29/40\n",
            "313/313 [==============================] - 1s 4ms/step - loss: 0.4654 - accuracy: 0.8364 - val_loss: 2.5049 - val_accuracy: 0.4775\n",
            "Epoch 30/40\n",
            "313/313 [==============================] - 1s 5ms/step - loss: 0.4406 - accuracy: 0.8465 - val_loss: 2.6006 - val_accuracy: 0.4846\n",
            "Epoch 31/40\n",
            "313/313 [==============================] - 1s 5ms/step - loss: 0.4302 - accuracy: 0.8496 - val_loss: 2.6328 - val_accuracy: 0.4790\n",
            "Epoch 32/40\n",
            "313/313 [==============================] - 1s 5ms/step - loss: 0.4047 - accuracy: 0.8588 - val_loss: 2.7262 - val_accuracy: 0.4746\n",
            "Epoch 33/40\n",
            "313/313 [==============================] - 2s 7ms/step - loss: 0.3894 - accuracy: 0.8652 - val_loss: 2.7712 - val_accuracy: 0.4769\n",
            "Epoch 34/40\n",
            "313/313 [==============================] - 2s 5ms/step - loss: 0.3927 - accuracy: 0.8639 - val_loss: 2.7663 - val_accuracy: 0.4780\n",
            "Epoch 35/40\n",
            "313/313 [==============================] - 2s 5ms/step - loss: 0.3660 - accuracy: 0.8720 - val_loss: 2.8785 - val_accuracy: 0.4745\n",
            "Epoch 36/40\n",
            "313/313 [==============================] - 2s 5ms/step - loss: 0.3468 - accuracy: 0.8793 - val_loss: 3.0602 - val_accuracy: 0.4697\n",
            "Epoch 37/40\n",
            "313/313 [==============================] - 3s 8ms/step - loss: 0.3458 - accuracy: 0.8809 - val_loss: 3.0251 - val_accuracy: 0.4756\n",
            "Epoch 38/40\n",
            "313/313 [==============================] - 1s 4ms/step - loss: 0.3319 - accuracy: 0.8846 - val_loss: 3.0485 - val_accuracy: 0.4762\n",
            "Epoch 39/40\n",
            "313/313 [==============================] - 2s 5ms/step - loss: 0.3167 - accuracy: 0.8899 - val_loss: 3.1657 - val_accuracy: 0.4762\n",
            "Epoch 40/40\n",
            "313/313 [==============================] - 2s 6ms/step - loss: 0.3113 - accuracy: 0.8913 - val_loss: 3.2063 - val_accuracy: 0.4787\n"
          ]
        }
      ]
    },
    {
      "cell_type": "markdown",
      "source": [
        "# 2.3. Exercise\n",
        "Based on the modifications above, and by any further modifications (e.g. more layers, less layers, more neurons/layer, etc.) to the model design, find a combination that is able to achieve **validation accuracy, that is higher than 53%**.\n"
      ],
      "metadata": {
        "id": "j1tGVPdD-pp3"
      }
    },
    {
      "cell_type": "code",
      "source": [
        "from tensorflow.keras import callbacks\n",
        "es = callbacks.EarlyStopping(\n",
        "    monitor='val_accuracy',\n",
        "    patience=5,\n",
        "    min_delta=0.001,\n",
        "    restore_best_weights=True,\n",
        ")"
      ],
      "metadata": {
        "id": "5dBQxJHIHrbd"
      },
      "execution_count": null,
      "outputs": []
    },
    {
      "cell_type": "code",
      "source": [
        "# model definition with dropout\n",
        "model = Sequential()\n",
        "model.add(Dense(256, activation='relu', kernel_initializer='he_uniform', input_shape=(flattened_dim,)))\n",
        "model.add(Dropout(rate=0.35))\n",
        "model.add(Dense(128, activation='relu', kernel_initializer='he_uniform'))\n",
        "model.add(BatchNormalization())\n",
        "model.add(Dense(128, activation='relu', kernel_initializer='he_uniform'))\n",
        "model.add(Dense(nb_classes, activation='softmax'))\n",
        "\n",
        "# loss function and optimizer\n",
        "model.compile(loss='categorical_crossentropy', optimizer='adam', metrics=['accuracy'])"
      ],
      "metadata": {
        "id": "PuxHOqLt-3Nd"
      },
      "execution_count": null,
      "outputs": []
    },
    {
      "cell_type": "code",
      "source": [
        "# training\n",
        "network_history = model.fit(X_train, Y_train,\n",
        "                            validation_data=(X_valid,Y_valid),\n",
        "                            batch_size=128,\n",
        "                            epochs=10000000,\n",
        "                            verbose=1,\n",
        "                            callbacks=[es])"
      ],
      "metadata": {
        "id": "u8tFNCNVHyt9",
        "outputId": "4d1507c5-da51-4250-e56e-5c9463a4830b",
        "colab": {
          "base_uri": "https://localhost:8080/"
        }
      },
      "execution_count": null,
      "outputs": [
        {
          "output_type": "stream",
          "name": "stdout",
          "text": [
            "Epoch 1/10000000\n",
            "313/313 [==============================] - 5s 7ms/step - loss: 1.8383 - accuracy: 0.3485 - val_loss: 1.6228 - val_accuracy: 0.4301\n",
            "Epoch 2/10000000\n",
            "313/313 [==============================] - 2s 6ms/step - loss: 1.6023 - accuracy: 0.4288 - val_loss: 1.5036 - val_accuracy: 0.4705\n",
            "Epoch 3/10000000\n",
            "313/313 [==============================] - 2s 6ms/step - loss: 1.5114 - accuracy: 0.4605 - val_loss: 1.4535 - val_accuracy: 0.4798\n",
            "Epoch 4/10000000\n",
            "313/313 [==============================] - 2s 7ms/step - loss: 1.4503 - accuracy: 0.4806 - val_loss: 1.4188 - val_accuracy: 0.4914\n",
            "Epoch 5/10000000\n",
            "313/313 [==============================] - 2s 6ms/step - loss: 1.4081 - accuracy: 0.4999 - val_loss: 1.4020 - val_accuracy: 0.5006\n",
            "Epoch 6/10000000\n",
            "313/313 [==============================] - 2s 6ms/step - loss: 1.3671 - accuracy: 0.5129 - val_loss: 1.3828 - val_accuracy: 0.5043\n",
            "Epoch 7/10000000\n",
            "313/313 [==============================] - 2s 5ms/step - loss: 1.3392 - accuracy: 0.5197 - val_loss: 1.3450 - val_accuracy: 0.5231\n",
            "Epoch 8/10000000\n",
            "313/313 [==============================] - 2s 6ms/step - loss: 1.3071 - accuracy: 0.5317 - val_loss: 1.3387 - val_accuracy: 0.5238\n",
            "Epoch 9/10000000\n",
            "313/313 [==============================] - 2s 6ms/step - loss: 1.2850 - accuracy: 0.5436 - val_loss: 1.3263 - val_accuracy: 0.5325\n",
            "Epoch 10/10000000\n",
            "313/313 [==============================] - 2s 6ms/step - loss: 1.2596 - accuracy: 0.5502 - val_loss: 1.3249 - val_accuracy: 0.5335\n",
            "Epoch 11/10000000\n",
            "313/313 [==============================] - 2s 7ms/step - loss: 1.2341 - accuracy: 0.5579 - val_loss: 1.3064 - val_accuracy: 0.5394\n",
            "Epoch 12/10000000\n",
            "313/313 [==============================] - 2s 5ms/step - loss: 1.2181 - accuracy: 0.5658 - val_loss: 1.3058 - val_accuracy: 0.5407\n",
            "Epoch 13/10000000\n",
            "313/313 [==============================] - 2s 5ms/step - loss: 1.1943 - accuracy: 0.5737 - val_loss: 1.2905 - val_accuracy: 0.5434\n",
            "Epoch 14/10000000\n",
            "313/313 [==============================] - 2s 5ms/step - loss: 1.1807 - accuracy: 0.5791 - val_loss: 1.2986 - val_accuracy: 0.5446\n",
            "Epoch 15/10000000\n",
            "313/313 [==============================] - 2s 6ms/step - loss: 1.1602 - accuracy: 0.5830 - val_loss: 1.2918 - val_accuracy: 0.5488\n",
            "Epoch 16/10000000\n",
            "313/313 [==============================] - 2s 6ms/step - loss: 1.1385 - accuracy: 0.5919 - val_loss: 1.3120 - val_accuracy: 0.5439\n",
            "Epoch 17/10000000\n",
            "313/313 [==============================] - 2s 7ms/step - loss: 1.1273 - accuracy: 0.5965 - val_loss: 1.2816 - val_accuracy: 0.5505\n",
            "Epoch 18/10000000\n",
            "313/313 [==============================] - 3s 8ms/step - loss: 1.1178 - accuracy: 0.6034 - val_loss: 1.2723 - val_accuracy: 0.5563\n",
            "Epoch 19/10000000\n",
            "313/313 [==============================] - 2s 5ms/step - loss: 1.0989 - accuracy: 0.6067 - val_loss: 1.2847 - val_accuracy: 0.5547\n",
            "Epoch 20/10000000\n",
            "313/313 [==============================] - 2s 6ms/step - loss: 1.0867 - accuracy: 0.6123 - val_loss: 1.2918 - val_accuracy: 0.5540\n",
            "Epoch 21/10000000\n",
            "313/313 [==============================] - 2s 5ms/step - loss: 1.0752 - accuracy: 0.6154 - val_loss: 1.2876 - val_accuracy: 0.5569\n",
            "Epoch 22/10000000\n",
            "313/313 [==============================] - 2s 7ms/step - loss: 1.0590 - accuracy: 0.6195 - val_loss: 1.3015 - val_accuracy: 0.5520\n",
            "Epoch 23/10000000\n",
            "313/313 [==============================] - 2s 7ms/step - loss: 1.0451 - accuracy: 0.6260 - val_loss: 1.3003 - val_accuracy: 0.5557\n"
          ]
        }
      ]
    },
    {
      "cell_type": "markdown",
      "source": [
        "# 3. Evaluation on test data and inference\n",
        "At this point, we will perform a basic evaluation and inference. With the model.evaluate function, the same metrics are calculated, that were used during training:"
      ],
      "metadata": {
        "id": "2FtKp-a2-A9m"
      }
    },
    {
      "cell_type": "code",
      "source": [
        "print(model.evaluate(X_test, Y_test))"
      ],
      "metadata": {
        "id": "I3_9wgDREUna",
        "outputId": "a1361b1b-076a-404f-f4cd-762921bdc759",
        "colab": {
          "base_uri": "https://localhost:8080/"
        }
      },
      "execution_count": null,
      "outputs": [
        {
          "output_type": "stream",
          "name": "stdout",
          "text": [
            "313/313 [==============================] - 1s 2ms/step - loss: 1.2861 - accuracy: 0.5458\n",
            "[1.2861396074295044, 0.545799970626831]\n"
          ]
        }
      ]
    },
    {
      "cell_type": "markdown",
      "source": [
        "we would like to see similar values, as in the validation set. If those are close to each other, then the generalization ability of the model is good (in case of an independent test-set)."
      ],
      "metadata": {
        "id": "ECHguBFtGL7f"
      }
    },
    {
      "cell_type": "markdown",
      "source": [
        "## 3.1. Exercise\n",
        "Predict the class of the first 10 elements in the test set, and compare the predicted values with the actual, target values in the test set. Hints:\n",
        "* you can use [model.predict](https://www.activestate.com/resources/quick-reads/how-to-use-a-model-to-do-predictions-with-keras/) for prediction\n",
        "* from the output you can select the largest value with the [argmax() function of Numpy](https://stackoverflow.com/questions/62358642/convert-one-hot-encoding-back-to-number-label). As there are multiple values, you have to call it with axis=1 parameter.\n",
        "* it is enought to compare the predictions and the targets by printing the values out and inspecting them."
      ],
      "metadata": {
        "id": "0Io4zYJeHjz6"
      }
    },
    {
      "cell_type": "code",
      "source": [
        "preds = model.predict(X_test[:10])\n",
        "preds_dense = np.argmax(preds, axis=1)\n",
        "print(\"Model predictions:\", preds_dense)\n",
        "print(\"Actual:           \", np.argmax(Y_test[:10], axis=1))\n"
      ],
      "metadata": {
        "id": "XEEyU7exILqF",
        "outputId": "2ae7c44a-6ca2-4a6d-dc16-675627983001",
        "colab": {
          "base_uri": "https://localhost:8080/"
        }
      },
      "execution_count": null,
      "outputs": [
        {
          "output_type": "stream",
          "name": "stdout",
          "text": [
            "1/1 [==============================] - 0s 17ms/step\n",
            "Model predictions: [3 8 8 0 6 6 1 6 3 1]\n",
            "Actual:            [3 8 8 0 6 6 1 6 3 1]\n"
          ]
        }
      ]
    },
    {
      "cell_type": "markdown",
      "source": [
        "Before comparision, you have to convert back the one-hot encoded target values the same way, as you converted the output of the neural network to class values with argmax() function."
      ],
      "metadata": {
        "id": "seZTEFI-I5cZ"
      }
    },
    {
      "cell_type": "code",
      "source": [
        "print(\"Target labels:\", np.argmax(Y_test[:10],axis=1))\n",
        "print(\"Predicted labels:\", preds_dense)"
      ],
      "metadata": {
        "id": "PHLvoMuIIkJ6",
        "outputId": "3f792538-accb-43c8-9423-a08307833f48",
        "colab": {
          "base_uri": "https://localhost:8080/"
        }
      },
      "execution_count": null,
      "outputs": [
        {
          "output_type": "stream",
          "name": "stdout",
          "text": [
            "Target labels: [3 8 8 0 6 6 1 6 3 1]\n",
            "Predicted labels: [3 8 8 0 6 6 1 6 3 1]\n"
          ]
        }
      ]
    },
    {
      "cell_type": "code",
      "source": [],
      "metadata": {
        "id": "ZDvNXk-qYvgy"
      },
      "execution_count": null,
      "outputs": []
    }
  ]
}